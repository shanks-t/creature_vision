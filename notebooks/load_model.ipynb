{
 "cells": [
  {
   "cell_type": "code",
   "execution_count": 4,
   "metadata": {},
   "outputs": [],
   "source": [
    "import tensorflow as tf\n",
    "from tensorflow.keras.applications import MobileNetV3Small\n",
    "from google.cloud import storage"
   ]
  },
  {
   "cell_type": "code",
   "execution_count": 1,
   "metadata": {},
   "outputs": [],
   "source": [
    "MODEL_FILENAME = 'mobilenetv3small.keras'\n",
    "GCS_BUCKET_NAME = 'tf_models_cv'\n",
    "GCS_MODEL_PATH = 'v3_0/v3_0.keras'"
   ]
  },
  {
   "cell_type": "code",
   "execution_count": 5,
   "metadata": {},
   "outputs": [
    {
     "name": "stderr",
     "output_type": "stream",
     "text": [
      "/opt/homebrew/Caskroom/miniconda/base/envs/creature-vis-0.1/lib/python3.11/site-packages/keras/src/applications/mobilenet_v3.py:452: UserWarning: `input_shape` is undefined or non-square, or `rows` is not 224. Weights for input shape (224, 224) will be loaded as the default.\n",
      "  return MobileNetV3(\n"
     ]
    }
   ],
   "source": [
    "model = MobileNetV3Small(weights='imagenet')\n",
    "\n",
    "# Save model locally in SavedModel format\n",
    "model.save(MODEL_FILENAME)\n"
   ]
  },
  {
   "cell_type": "code",
   "execution_count": 6,
   "metadata": {},
   "outputs": [],
   "source": [
    "# Function to upload a single file to GCS\n",
    "def upload_file_to_gcs(local_file, bucket_name, destination_blob_name):\n",
    "    client = storage.Client()\n",
    "    bucket = client.bucket(bucket_name)\n",
    "    blob = bucket.blob(destination_blob_name)\n",
    "\n",
    "    blob.upload_from_filename(local_file)\n",
    "    print(f\"Uploaded {local_file} to gs://{bucket_name}/{destination_blob_name}\")"
   ]
  },
  {
   "cell_type": "code",
   "execution_count": 7,
   "metadata": {},
   "outputs": [
    {
     "name": "stdout",
     "output_type": "stream",
     "text": [
      "Uploaded mobilenetv3small.keras to gs://tf_models_cv/v3_0/v3_0.keras\n"
     ]
    }
   ],
   "source": [
    "upload_file_to_gcs(MODEL_FILENAME, GCS_BUCKET_NAME, GCS_MODEL_PATH)"
   ]
  },
  {
   "cell_type": "code",
   "execution_count": null,
   "metadata": {},
   "outputs": [
    {
     "name": "stdout",
     "output_type": "stream",
     "text": [
      "Loaded model from: gs://tf_models_cv/v3_0/v3_0.keras\n"
     ]
    },
    {
     "data": {
      "text/html": [
       "<pre style=\"white-space:pre;overflow-x:auto;line-height:normal;font-family:Menlo,'DejaVu Sans Mono',consolas,'Courier New',monospace\"></pre>\n"
      ],
      "text/plain": []
     },
     "metadata": {},
     "output_type": "display_data"
    },
    {
     "name": "stdout",
     "output_type": "stream",
     "text": [
      "Model summary written to: gs://tf_models_cv/v3_0/v3_0_summary.txt\n"
     ]
    }
   ],
   "source": [
    "from io import StringIO\n",
    "\n",
    "# === CONFIG ===\n",
    "prev_version = \"v3_0\"  # Replace with your model version\n",
    "bucket = \"tf_models_cv\"  # Your model bucket\n",
    "artifact_path = f\"gs://{bucket}/{prev_version}/{prev_version}_summary.txt\"\n",
    "\n",
    "# === LOAD MODEL FROM GCS ===\n",
    "model_path = f\"gs://{bucket}/{prev_version}/{prev_version}.keras\"\n",
    "model = tf.keras.models.load_model(model_path)\n",
    "print(f\"Loaded model from: {model_path}\")\n",
    "\n",
    "# === CAPTURE SUMMARY ===\n",
    "def get_model_summary(model):\n",
    "    stream = StringIO()\n",
    "    model.summary(print_fn=lambda x: stream.write(x + \"\\n\"))\n",
    "    summary_str = stream.getvalue()\n",
    "    stream.close()\n",
    "    return summary_str\n",
    "\n",
    "summary_text = get_model_summary(model)\n",
    "\n",
    "# === WRITE TO GCS ===\n",
    "with tf.io.gfile.GFile(artifact_path, \"w\") as f:\n",
    "    f.write(summary_text)\n",
    "\n",
    "print(f\"Model summary written to: {artifact_path}\")\n"
   ]
  }
 ],
 "metadata": {
  "kernelspec": {
   "display_name": "creature-vis-0.1",
   "language": "python",
   "name": "python3"
  },
  "language_info": {
   "codemirror_mode": {
    "name": "ipython",
    "version": 3
   },
   "file_extension": ".py",
   "mimetype": "text/x-python",
   "name": "python",
   "nbconvert_exporter": "python",
   "pygments_lexer": "ipython3",
   "version": "3.11.11"
  }
 },
 "nbformat": 4,
 "nbformat_minor": 2
}
