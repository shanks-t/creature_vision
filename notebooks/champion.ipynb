{
 "cells": [
  {
   "cell_type": "code",
   "execution_count": 2,
   "metadata": {},
   "outputs": [],
   "source": [
    "def get_cloud_run_model_version(project_id: str, region: str, service_name: str) -> str:\n",
    "    import subprocess\n",
    "    import json\n",
    "\n",
    "    cmd = [\n",
    "        \"gcloud\", \"run\", \"services\", \"describe\", service_name,\n",
    "        \"--platform\", \"managed\",\n",
    "        \"--project\", project_id,\n",
    "        \"--region\", region,\n",
    "        \"--format\", \"json\"\n",
    "    ]\n",
    "\n",
    "    result = subprocess.run(cmd, capture_output=True, check=True, text=True)\n",
    "    service_config = json.loads(result.stdout)\n",
    "    env_vars = service_config[\"spec\"][\"template\"][\"spec\"][\"containers\"][0][\"env\"]\n",
    "\n",
    "    for var in env_vars:\n",
    "        if var[\"name\"] == \"MODEL_VERSION\":\n",
    "            return var[\"value\"]\n",
    "\n",
    "    return \"unknown\"\n"
   ]
  },
  {
   "cell_type": "code",
   "execution_count": 3,
   "metadata": {},
   "outputs": [
    {
     "data": {
      "text/plain": [
       "'v3_1'"
      ]
     },
     "execution_count": 3,
     "metadata": {},
     "output_type": "execute_result"
    }
   ],
   "source": [
    "get_cloud_run_model_version(\"creature-vision\", \"us-east1\", \"dog-predictor\")"
   ]
  }
 ],
 "metadata": {
  "kernelspec": {
   "display_name": "creature-vis-0.1",
   "language": "python",
   "name": "python3"
  },
  "language_info": {
   "codemirror_mode": {
    "name": "ipython",
    "version": 3
   },
   "file_extension": ".py",
   "mimetype": "text/x-python",
   "name": "python",
   "nbconvert_exporter": "python",
   "pygments_lexer": "ipython3",
   "version": "3.11.11"
  }
 },
 "nbformat": 4,
 "nbformat_minor": 2
}
