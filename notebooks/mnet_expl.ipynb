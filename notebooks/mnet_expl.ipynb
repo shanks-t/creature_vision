{
 "cells": [
  {
   "cell_type": "code",
   "execution_count": 10,
   "metadata": {},
   "outputs": [],
   "source": [
    "import numpy as np\n",
    "import matplotlib.pyplot as plt"
   ]
  },
  {
   "cell_type": "code",
   "execution_count": 11,
   "metadata": {},
   "outputs": [],
   "source": [
    "# Define a 5x5 input image representing the letter \"T\"\n",
    "input_image = np.array([\n",
    "    [1, 1, 1, 1, 1, 1],\n",
    "    [0, 0, 0, 0, 0, 1],\n",
    "    [1, 1, 0, 1, 1, 1],\n",
    "    [1, 1, 0, 1, 1, 1],\n",
    "    [1, 1, 0, 1, 1, 1],\n",
    "    [1, 1, 0, 1, 1, 1]\n",
    "])"
   ]
  },
  {
   "cell_type": "code",
   "execution_count": 12,
   "metadata": {},
   "outputs": [],
   "source": [
    "# Define two edge detection filters\n",
    "# Filter 1 detects vertical edges, and Filter 2 detects horizontal edges.\n",
    "filter_1 = np.array([\n",
    "    [1, 0, -1],\n",
    "    [1, 0, -1],\n",
    "    [1, 0, -1]\n",
    "])\n",
    "\n",
    "filter_2 = np.array([\n",
    "    [1, 1, 1],\n",
    "    [0, 0, 0],\n",
    "    [-1, -1, -1]\n",
    "])"
   ]
  },
  {
   "cell_type": "code",
   "execution_count": 13,
   "metadata": {},
   "outputs": [
    {
     "data": {
      "image/png": "[encoded data removed]",
      "text/plain": [
       "<Figure size 640x480 with 2 Axes>"
      ]
     },
     "metadata": {},
     "output_type": "display_data"
    }
   ],
   "source": [
    "plt.subplot(2, 3, 1)\n",
    "plt.imshow(filter_1, cmap='gray')\n",
    "plt.title(\"Filter 1 Visualization\")\n",
    "\n",
    "\n",
    "plt.subplot(2, 3, 2)\n",
    "plt.imshow(filter_2, cmap='gray')\n",
    "plt.title(\"Filter 2 Visualization\")\n",
    "plt.show()"
   ]
  },
  {
   "cell_type": "code",
   "execution_count": 14,
   "metadata": {},
   "outputs": [],
   "source": [
    "# Function to apply a filter to the input image\n",
    "def apply_filter(image, filter):\n",
    "    # Get the size of the filter (assumed square) and calculate output size\n",
    "    filter_size = filter.shape[0]\n",
    "    output_size = image.shape[0] - filter_size + 1\n",
    "    \n",
    "    # Initialize an empty feature map to store convolution results\n",
    "    feature_map = np.zeros((output_size, output_size))\n",
    "    \n",
    "    # Slide the filter across the image\n",
    "    for i in range(output_size):\n",
    "        for j in range(output_size):\n",
    "            # Extract the current region of interest from the image\n",
    "            region = image[i:i+filter_size, j:j+filter_size]\n",
    "            # Perform element-wise multiplication and sum the results\n",
    "            feature_map[i, j] = np.sum(region * filter)\n",
    "    \n",
    "    return feature_map"
   ]
  },
  {
   "cell_type": "code",
   "execution_count": 19,
   "metadata": {},
   "outputs": [
    {
     "name": "stdout",
     "output_type": "stream",
     "text": [
      "map 1 \n",
      "[[ 1.  0. -1. -1.]\n",
      " [ 2.  0. -2. -1.]\n",
      " [ 3.  0. -3.  0.]\n",
      " [ 3.  0. -3.  0.]]  \n",
      "\n",
      "[[ 1.  1.  1.  0.]\n",
      " [-2. -2. -2. -2.]\n",
      " [ 0.  0.  0.  0.]\n",
      " [ 0.  0.  0.  0.]]\n"
     ]
    }
   ],
   "source": [
    "# Apply both filters to the input image to get feature maps\n",
    "feature_map_1 = apply_filter(input_image, filter_1)\n",
    "feature_map_2 = apply_filter(input_image, filter_2)\n",
    "\n",
    "print(f\"map 1 \\n{feature_map_1}  \\n\")\n",
    "\n",
    "print(feature_map_2)"
   ]
  },
  {
   "cell_type": "code",
   "execution_count": null,
   "metadata": {},
   "outputs": [],
   "source": [
    "# Define the hard swish activation function\n",
    "def hard_swish(x):\n",
    "    # Hard swish introduces non-linearity by scaling inputs based on their value\n",
    "    return x * np.minimum(np.maximum(x + 3, 0), 6) / 6"
   ]
  },
  {
   "cell_type": "code",
   "execution_count": null,
   "metadata": {},
   "outputs": [],
   "source": [
    "# Apply the activation function to both feature maps\n",
    "activated_feature_map_1 = hard_swish(feature_map_1)\n",
    "activated_feature_map_2 = hard_swish(feature_map_2)"
   ]
  },
  {
   "cell_type": "code",
   "execution_count": null,
   "metadata": {},
   "outputs": [],
   "source": [
    "threshold = 0.5\n",
    "# Simplified classification using a threshold\n",
    "def classify(feature_maps, threshold=threshold):\n",
    "    total_activation = np.sum(feature_maps)\n",
    "    print(f\"total_activation: {total_activation}\")\n",
    "    \n",
    "    if total_activation > threshold:\n",
    "        return \"Edge\"\n",
    "    else:\n",
    "        return \"No Edge\""
   ]
  },
  {
   "cell_type": "code",
   "execution_count": null,
   "metadata": {},
   "outputs": [
    {
     "name": "stdout",
     "output_type": "stream",
     "text": [
      "total_activation: 7.666666666666668\n"
     ]
    },
    {
     "data": {
      "text/plain": [
       "'Edge'"
      ]
     },
     "execution_count": 59,
     "metadata": {},
     "output_type": "execute_result"
    }
   ],
   "source": [
    "# Combine activated feature maps and classify\n",
    "combined_feature_maps = activated_feature_map_1 + activated_feature_map_2\n",
    "classification_result = classify(combined_feature_maps)\n",
    "\n",
    "classification_result"
   ]
  },
  {
   "cell_type": "code",
   "execution_count": null,
   "metadata": {},
   "outputs": [
    {
     "data": {
      "image/png": "[encoded data removed]",
      "text/plain": [
       "<Figure size 1000x500 with 5 Axes>"
      ]
     },
     "metadata": {},
     "output_type": "display_data"
    }
   ],
   "source": [
    "# Plot the results for visualization\n",
    "plt.figure(figsize=(10, 5))\n",
    "\n",
    "plt.subplot(2, 3, 1)\n",
    "plt.title(\"Input Image\")\n",
    "plt.imshow(input_image, cmap='gray')\n",
    "plt.axis('off')\n",
    "\n",
    "plt.subplot(2, 3, 2)\n",
    "plt.title(\"Feature Map 1\")\n",
    "plt.imshow(feature_map_1, cmap='gray')\n",
    "plt.axis('off')\n",
    "\n",
    "plt.subplot(2, 3, 3)\n",
    "plt.title(\"Activated Feature Map 1\")\n",
    "plt.imshow(activated_feature_map_1, cmap='gray')\n",
    "plt.axis('off')\n",
    "\n",
    "plt.subplot(2, 3, 5)\n",
    "plt.title(\"Feature Map 2\")\n",
    "plt.imshow(feature_map_2, cmap='gray')\n",
    "plt.axis('off')\n",
    "\n",
    "plt.subplot(2, 3, 6)\n",
    "plt.title(\"Activated Feature Map 2\")\n",
    "plt.imshow(activated_feature_map_2, cmap='gray')\n",
    "plt.axis('off')\n",
    "\n",
    "plt.tight_layout()\n",
    "plt.show()"
   ]
  }
 ],
 "metadata": {
  "kernelspec": {
   "display_name": "creature_vis",
   "language": "python",
   "name": "python3"
  },
  "language_info": {
   "codemirror_mode": {
    "name": "ipython",
    "version": 3
   },
   "file_extension": ".py",
   "mimetype": "text/x-python",
   "name": "python",
   "nbconvert_exporter": "python",
   "pygments_lexer": "ipython3",
   "version": "3.10.14"
  }
 },
 "nbformat": 4,
 "nbformat_minor": 2
}
