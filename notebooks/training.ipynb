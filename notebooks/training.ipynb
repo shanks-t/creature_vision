{
 "cells": [
  {
   "cell_type": "code",
   "execution_count": 70,
   "metadata": {},
   "outputs": [
    {
     "ename": "ImportError",
     "evalue": "cannot import name 'TransferManager' from 'google.cloud.storage.transfer_manager' (/opt/homebrew/Caskroom/miniconda/base/envs/creature_vis/lib/python3.10/site-packages/google/cloud/storage/transfer_manager.py)",
     "output_type": "error",
     "traceback": [
      "\u001b[0;31m---------------------------------------------------------------------------\u001b[0m",
      "\u001b[0;31mImportError\u001b[0m                               Traceback (most recent call last)",
      "Cell \u001b[0;32mIn[70], line 7\u001b[0m\n\u001b[1;32m      5\u001b[0m \u001b[38;5;28;01mfrom\u001b[39;00m \u001b[38;5;21;01mtensorflow\u001b[39;00m\u001b[38;5;21;01m.\u001b[39;00m\u001b[38;5;21;01mkeras\u001b[39;00m\u001b[38;5;21;01m.\u001b[39;00m\u001b[38;5;21;01mpreprocessing\u001b[39;00m\u001b[38;5;21;01m.\u001b[39;00m\u001b[38;5;21;01mimage\u001b[39;00m \u001b[38;5;28;01mimport\u001b[39;00m ImageDataGenerator\n\u001b[1;32m      6\u001b[0m \u001b[38;5;28;01mfrom\u001b[39;00m \u001b[38;5;21;01mgoogle\u001b[39;00m\u001b[38;5;21;01m.\u001b[39;00m\u001b[38;5;21;01mcloud\u001b[39;00m \u001b[38;5;28;01mimport\u001b[39;00m storage\n\u001b[0;32m----> 7\u001b[0m \u001b[38;5;28;01mfrom\u001b[39;00m \u001b[38;5;21;01mgoogle\u001b[39;00m\u001b[38;5;21;01m.\u001b[39;00m\u001b[38;5;21;01mcloud\u001b[39;00m\u001b[38;5;21;01m.\u001b[39;00m\u001b[38;5;21;01mstorage\u001b[39;00m\u001b[38;5;21;01m.\u001b[39;00m\u001b[38;5;21;01mtransfer_manager\u001b[39;00m \u001b[38;5;28;01mimport\u001b[39;00m TransferManager\n\u001b[1;32m      8\u001b[0m \u001b[38;5;28;01mimport\u001b[39;00m \u001b[38;5;21;01mjson\u001b[39;00m\u001b[38;5;241m,\u001b[39m \u001b[38;5;21;01mio\u001b[39;00m\n",
      "\u001b[0;31mImportError\u001b[0m: cannot import name 'TransferManager' from 'google.cloud.storage.transfer_manager' (/opt/homebrew/Caskroom/miniconda/base/envs/creature_vis/lib/python3.10/site-packages/google/cloud/storage/transfer_manager.py)"
     ]
    }
   ],
   "source": [
    "import tensorflow as tf\n",
    "from tensorflow.keras import layers, models\n",
    "from tensorflow.keras.applications import MobileNetV3Large\n",
    "from tensorflow.keras.optimizers import Adam\n",
    "from tensorflow.keras.preprocessing.image import ImageDataGenerator\n",
    "from google.cloud import storage\n",
    "import json, io"
   ]
  },
  {
   "cell_type": "code",
   "execution_count": 54,
   "metadata": {},
   "outputs": [
    {
     "name": "stdout",
     "output_type": "stream",
     "text": [
      "GCS client set up: <google.cloud.storage.client.Client object at 0x318b6b7c0>\n"
     ]
    }
   ],
   "source": [
    "# Set up GCS client\n",
    "client = storage.Client()\n",
    "print(f\"GCS client set up: {client}\")"
   ]
  },
  {
   "cell_type": "code",
   "execution_count": 55,
   "metadata": {},
   "outputs": [],
   "source": [
    "# Define constants\n",
    "BUCKET_NAME = 'creature-vision-training-set'\n",
    "IMAGE_SIZE = (224, 224)\n",
    "BATCH_SIZE = 32\n",
    "DATA_DIR = 'incorrect_predictions'"
   ]
  },
  {
   "cell_type": "code",
   "execution_count": 56,
   "metadata": {},
   "outputs": [],
   "source": [
    "# Function to load JSON data from GCS\n",
    "def load_json_from_gcs(bucket_name, file_path):\n",
    "    bucket = client.get_bucket(bucket_name)\n",
    "    blob = bucket.blob(file_path)\n",
    "    data = json.loads(blob.download_as_string())\n",
    "    print(f\"Loaded JSON from {file_path}\")\n",
    "    return data"
   ]
  },
  {
   "cell_type": "code",
   "execution_count": 57,
   "metadata": {},
   "outputs": [],
   "source": [
    "# Function to list all files in a GCS directory\n",
    "def list_gcs_files(bucket_name, prefix):\n",
    "    bucket = client.get_bucket(bucket_name)\n",
    "    files = [blob.name for blob in bucket.list_blobs(prefix=prefix)]\n",
    "    print(f\"Found {len(files)} files in {prefix}\")\n",
    "    return files"
   ]
  },
  {
   "cell_type": "code",
   "execution_count": 62,
   "metadata": {},
   "outputs": [
    {
     "name": "stdout",
     "output_type": "stream",
     "text": [
      "Found 3976 files in incorrect_predictions\n",
      "Total files: 3976, JSON files: 1864\n"
     ]
    }
   ],
   "source": [
    "all_files = list_gcs_files(BUCKET_NAME, DATA_DIR)\n",
    "list_to_filter = ['stbernard', 'terrier scottish', 'terrier kerryblue', 'terrier westhighland']\n",
    "json_files = [f for f in all_files if f.endswith('.json') and not any(sub in f for sub in list_to_filter)]\n",
    "print(f\"Total files: {len(all_files)}, JSON files: {len(json_files)}\")"
   ]
  },
  {
   "cell_type": "code",
   "execution_count": 59,
   "metadata": {},
   "outputs": [],
   "source": [
    "# testing how to filter list of item from list with comprehension syntax\n",
    "# json_files = [item for item in json_files if not any(sub in item for sub in list_to_filter)]"
   ]
  },
  {
   "cell_type": "code",
   "execution_count": null,
   "metadata": {},
   "outputs": [],
   "source": [
    "# init empty dict\n",
    "labels = {}\n",
    "# init empty set\n",
    "all_breeds = set()\n",
    "# 8 mins to run with ~2000 images in folder\n",
    "for json_file in json_files:\n",
    "    data = load_json_from_gcs(BUCKET_NAME, json_file)\n",
    "    # add corresponding image file\n",
    "    image_file = json_file.replace('_labels.json', '.jpg')\n",
    "    # add kv pair to labels dict, k=image file name v=api_label\n",
    "    labels[image_file] = data['api_label']\n",
    "    # add bread label to set, duplicates ignored because set\n",
    "    all_breeds.add(data['api_label'])\n",
    "\n",
    "TOTAL_BREEDS = len(all_breeds)"
   ]
  },
  {
   "cell_type": "code",
   "execution_count": null,
   "metadata": {},
   "outputs": [],
   "source": [
    "def save_labels_and_breeds(labels, all_breeds):\n",
    "    # Save the labels dictionary to a local JSON file\n",
    "    with open('tm_labels.json', 'w') as f:\n",
    "        json.dump(labels, f)\n",
    "    print(\"labels dictionary saved to labels.json\")\n",
    "\n",
    "    # Convert all_breeds set to a sorted list\n",
    "    all_breeds_sorted = sorted(list(all_breeds))\n",
    "\n",
    "    # Save the all_breeds set to a local JSON file\n",
    "    with open('tm_all_breeds.json', 'w') as f:\n",
    "        json.dump(all_breeds_sorted, f)\n",
    "    print(\"all_breeds set saved to all_breeds.json\")\n",
    "\n",
    "print(f\"Total number of breeds: {len(all_breeds)}\")"
   ]
  },
  {
   "cell_type": "code",
   "execution_count": 76,
   "metadata": {},
   "outputs": [
    {
     "name": "stdout",
     "output_type": "stream",
     "text": [
      "Total breeds: 155\n",
      "First 5 breed indices: [('affenpinscher', 0), ('african', 1), ('airedale', 2), ('akita', 3), ('appenzeller', 4)]\n"
     ]
    }
   ],
   "source": [
    "'''\n",
    "Suppose all_breeds contains: {\"Bulldog\", \"Affenpinscher\", \"Chihuahua\"}\n",
    "After sorting: [\"Affenpinscher\", \"Bulldog\", \"Chihuahua\"]\n",
    "'for i, breed in ...' unpacks each pair yielded by enumerate()\n",
    "The enumerate() returns k,v pairs, e.g.:\n",
    "(0, \"Affenpinscher\")\n",
    "(1, \"Bulldog\")\n",
    "(2, \"Chihuahua\")\n",
    "The dictionary comprehension 'breed: i then creates:\n",
    "{\n",
    "\"Affenpinscher\": 0,\n",
    "\"Bulldog\": 1,\n",
    "\"Chihuahua\": 2\n",
    "}\n",
    "'''\n",
    "breed_to_index = {breed: i for i, breed in enumerate(sorted(all_breeds))}\n",
    "print(f\"Total breeds: {TOTAL_BREEDS}\")\n",
    "print(f\"First 5 breed indices: {list(breed_to_index.items())[:5]}\")"
   ]
  },
  {
   "cell_type": "code",
   "execution_count": null,
   "metadata": {},
   "outputs": [],
   "source": [
    "# Split data into train and validation sets\n",
    "from sklearn.model_selection import train_test_split\n",
    "train_files, val_files = train_test_split(list(labels.keys()), test_size=0.2, random_state=42)\n",
    "print(f\"Train files: {len(train_files)}, Validation files: {len(val_files)}\")\n"
   ]
  },
  {
   "cell_type": "code",
   "execution_count": null,
   "metadata": {},
   "outputs": [],
   "source": [
    "# Load your pre-trained model\n",
    "base_model = MobileNetV3Large(weights='imagenet', include_top=False, input_shape=(*IMAGE_SIZE, 3))\n",
    "x = layers.GlobalAveragePooling2D()(base_model.output)\n",
    "x = layers.Dense(256, activation='relu')(x)\n",
    "output = layers.Dense(TOTAL_BREEDS, activation='softmax')(x)\n",
    "model = models.Model(inputs=base_model.input, outputs=output)\n",
    "print(\"Model created\")\n"
   ]
  },
  {
   "cell_type": "code",
   "execution_count": null,
   "metadata": {},
   "outputs": [],
   "source": [
    "# Freeze the base model layers\n",
    "for layer in base_model.layers:\n",
    "    layer.trainable = False\n",
    "print(\"Base model layers frozen\")"
   ]
  },
  {
   "cell_type": "code",
   "execution_count": null,
   "metadata": {},
   "outputs": [],
   "source": [
    "# Function to load images from GCS\n",
    "def load_image_from_gcs(file_path):\n",
    "    bucket = client.get_bucket(BUCKET_NAME)\n",
    "    blob = bucket.blob(file_path)\n",
    "    image_bytes = blob.download_as_bytes()\n",
    "    image = tf.image.decode_jpeg(image_bytes, channels=3)\n",
    "    image = tf.image.resize(image, IMAGE_SIZE)\n",
    "    print(f\"Loaded image: {file_path}\")\n",
    "    return image"
   ]
  },
  {
   "cell_type": "code",
   "execution_count": null,
   "metadata": {},
   "outputs": [],
   "source": [
    "import numpy as np\n",
    "# Custom data generator\n",
    "def custom_generator(file_paths, batch_size):\n",
    "    while True:\n",
    "        batch_paths = np.random.choice(file_paths, batch_size)\n",
    "        batch_images = [load_image_from_gcs(path) for path in batch_paths]\n",
    "        batch_images = np.array(batch_images) / 255.0  # Normalize\n",
    "        batch_labels = [breed_to_index[labels[path]] for path in batch_paths]\n",
    "        print(f\"Generated batch of {batch_size} images\")\n",
    "        yield batch_images, tf.keras.utils.to_categorical(batch_labels, TOTAL_BREEDS)"
   ]
  },
  {
   "cell_type": "code",
   "execution_count": null,
   "metadata": {},
   "outputs": [],
   "source": [
    "# Compile the model\n",
    "model.compile(optimizer=Adam(learning_rate=0.001),\n",
    "              loss='categorical_crossentropy',\n",
    "              metrics=['accuracy'])\n",
    "print(\"Model compiled\")"
   ]
  },
  {
   "cell_type": "code",
   "execution_count": null,
   "metadata": {},
   "outputs": [],
   "source": [
    "# Train the model\n",
    "print(\"Starting model training...\")\n",
    "history = model.fit(\n",
    "    custom_generator(train_files, BATCH_SIZE),\n",
    "    steps_per_epoch=len(train_files) // BATCH_SIZE,\n",
    "    validation_data=custom_generator(val_files, BATCH_SIZE),\n",
    "    validation_steps=len(val_files) // BATCH_SIZE,\n",
    "    epochs=10\n",
    ")\n",
    "print(\"Model training completed\")\n"
   ]
  },
  {
   "cell_type": "code",
   "execution_count": null,
   "metadata": {},
   "outputs": [],
   "source": [
    "# Fine-tuning\n",
    "for layer in model.layers[-20:]:\n",
    "    layer.trainable = True\n",
    "print(\"Last 20 layers set to trainable for fine-tuning\")\n",
    "\n",
    "model.compile(optimizer=Adam(learning_rate=0.0001),\n",
    "              loss='categorical_crossentropy',\n",
    "              metrics=['accuracy'])\n",
    "print(\"Model recompiled for fine-tuning\")\n",
    "\n",
    "print(\"Starting model fine-tuning...\")\n",
    "history_fine = model.fit(\n",
    "    custom_generator(train_files, BATCH_SIZE),\n",
    "    steps_per_epoch=len(train_files) // BATCH_SIZE,\n",
    "    validation_data=custom_generator(val_files, BATCH_SIZE),\n",
    "    validation_steps=len(val_files) // BATCH_SIZE,\n",
    "    epochs=5\n",
    ")\n",
    "print(\"Model fine-tuning completed\")"
   ]
  }
 ],
 "metadata": {
  "kernelspec": {
   "display_name": "creature_vis",
   "language": "python",
   "name": "python3"
  },
  "language_info": {
   "codemirror_mode": {
    "name": "ipython",
    "version": 3
   },
   "file_extension": ".py",
   "mimetype": "text/x-python",
   "name": "python",
   "nbconvert_exporter": "python",
   "pygments_lexer": "ipython3",
   "version": "3.10.14"
  }
 },
 "nbformat": 4,
 "nbformat_minor": 2
}
