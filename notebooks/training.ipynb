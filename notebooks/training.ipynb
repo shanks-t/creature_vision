{
 "cells": [
  {
   "cell_type": "code",
   "execution_count": 1,
   "metadata": {},
   "outputs": [
    {
     "name": "stdout",
     "output_type": "stream",
     "text": [
      "Found 24 TFRecord files:\n",
      "gs://creature-vision-training-set/processed/v3_1/data-00000-of-00008.tfrecord\n",
      "gs://creature-vision-training-set/processed/v3_1/data-00001-of-00008.tfrecord\n",
      "gs://creature-vision-training-set/processed/v3_1/data-00002-of-00008.tfrecord\n",
      "gs://creature-vision-training-set/processed/v3_1/data-00003-of-00008.tfrecord\n",
      "gs://creature-vision-training-set/processed/v3_1/data-00004-of-00008.tfrecord\n",
      "gs://creature-vision-training-set/processed/v3_1/data-00005-of-00008.tfrecord\n",
      "gs://creature-vision-training-set/processed/v3_1/data-00006-of-00008.tfrecord\n",
      "gs://creature-vision-training-set/processed/v3_1/data-00007-of-00008.tfrecord\n",
      "gs://creature-vision-training-set/processed/v3_2/data-00000-of-00007.tfrecord\n",
      "gs://creature-vision-training-set/processed/v3_2/data-00001-of-00007.tfrecord\n",
      "gs://creature-vision-training-set/processed/v3_2/data-00002-of-00007.tfrecord\n",
      "gs://creature-vision-training-set/processed/v3_2/data-00003-of-00007.tfrecord\n",
      "gs://creature-vision-training-set/processed/v3_2/data-00004-of-00007.tfrecord\n",
      "gs://creature-vision-training-set/processed/v3_2/data-00005-of-00007.tfrecord\n",
      "gs://creature-vision-training-set/processed/v3_2/data-00006-of-00007.tfrecord\n",
      "gs://creature-vision-training-set/processed/v3_3/data-00000-of-00009.tfrecord\n",
      "gs://creature-vision-training-set/processed/v3_3/data-00001-of-00009.tfrecord\n",
      "gs://creature-vision-training-set/processed/v3_3/data-00002-of-00009.tfrecord\n",
      "gs://creature-vision-training-set/processed/v3_3/data-00003-of-00009.tfrecord\n",
      "gs://creature-vision-training-set/processed/v3_3/data-00004-of-00009.tfrecord\n",
      "gs://creature-vision-training-set/processed/v3_3/data-00005-of-00009.tfrecord\n",
      "gs://creature-vision-training-set/processed/v3_3/data-00006-of-00009.tfrecord\n",
      "gs://creature-vision-training-set/processed/v3_3/data-00007-of-00009.tfrecord\n",
      "gs://creature-vision-training-set/processed/v3_3/data-00008-of-00009.tfrecord\n"
     ]
    }
   ],
   "source": [
    "import tensorflow as tf\n",
    "\n",
    "# Replace with your actual GCS bucket name\n",
    "bucket_name = \"creature-vision-training-set\"\n",
    "\n",
    "# Use recursive glob pattern\n",
    "tfrecord_paths = tf.io.gfile.glob(f\"gs://{bucket_name}/processed/**/*.tfrecord\")\n",
    "\n",
    "# Print results\n",
    "if not tfrecord_paths:\n",
    "    print(f\"No TFRecord files found in bucket: {bucket_name}\")\n",
    "else:\n",
    "    print(f\"Found {len(tfrecord_paths)} TFRecord files:\")\n",
    "    for path in tfrecord_paths:\n",
    "        print(path)\n"
   ]
  }
 ],
 "metadata": {
  "kernelspec": {
   "display_name": "creature-vis-0.1",
   "language": "python",
   "name": "python3"
  },
  "language_info": {
   "codemirror_mode": {
    "name": "ipython",
    "version": 3
   },
   "file_extension": ".py",
   "mimetype": "text/x-python",
   "name": "python",
   "nbconvert_exporter": "python",
   "pygments_lexer": "ipython3",
   "version": "3.11.11"
  }
 },
 "nbformat": 4,
 "nbformat_minor": 2
}
