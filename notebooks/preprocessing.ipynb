{
 "cells": [
  {
   "cell_type": "code",
   "execution_count": 12,
   "id": "7f6abc26",
   "metadata": {},
   "outputs": [],
   "source": [
    "from tensorflow.io import gfile\n",
    "import random"
   ]
  },
  {
   "cell_type": "code",
   "execution_count": null,
   "id": "802598e2",
   "metadata": {},
   "outputs": [
    {
     "ename": "NameError",
     "evalue": "name 'self' is not defined",
     "output_type": "error",
     "traceback": [
      "\u001b[0;31m---------------------------------------------------------------------------\u001b[0m",
      "\u001b[0;31mNameError\u001b[0m                                 Traceback (most recent call last)",
      "Cell \u001b[0;32mIn[13], line 21\u001b[0m\n\u001b[1;32m     16\u001b[0m     tfrecord_glob \u001b[38;5;241m=\u001b[39m (\n\u001b[1;32m     17\u001b[0m         \u001b[38;5;124mf\u001b[39m\u001b[38;5;124m\"\u001b[39m\u001b[38;5;124mgs://\u001b[39m\u001b[38;5;132;01m{\u001b[39;00mdataset_bucket\u001b[38;5;132;01m}\u001b[39;00m\u001b[38;5;124m/processed/\u001b[39m\u001b[38;5;132;01m{\u001b[39;00mversion\u001b[38;5;132;01m}\u001b[39;00m\u001b[38;5;124m/*.tfrecord\u001b[39m\u001b[38;5;124m\"\u001b[39m\n\u001b[1;32m     18\u001b[0m     )\n\u001b[1;32m     19\u001b[0m     all_prev_files\u001b[38;5;241m.\u001b[39mextend(gfile\u001b[38;5;241m.\u001b[39mglob(tfrecord_glob))\n\u001b[0;32m---> 21\u001b[0m num_to_sample \u001b[38;5;241m=\u001b[39m \u001b[38;5;28mint\u001b[39m(\u001b[38;5;28mlen\u001b[39m(all_prev_files) \u001b[38;5;241m*\u001b[39m \u001b[38;5;28;43mself\u001b[39;49m\u001b[38;5;241m.\u001b[39msample_ratio)\n\u001b[1;32m     22\u001b[0m sampled_files \u001b[38;5;241m=\u001b[39m random\u001b[38;5;241m.\u001b[39msample(all_prev_files, num_to_sample)\n",
      "\u001b[0;31mNameError\u001b[0m: name 'self' is not defined"
     ]
    }
   ],
   "source": [
    "dataset_bucket=\"creature-vision-training-set\"\n",
    "current_version = \"v3_6\"\n",
    "sample_ratio: float = 0.2\n",
    "\n",
    "version_prefix = current_version.split(\"_\")[0]\n",
    "all_version_paths = gfile.listdir(f\"gs://{dataset_bucket}/processed/\")\n",
    "\n",
    "eligible_versions = [\n",
    "    v\n",
    "    for v in all_version_paths\n",
    "    if v.startswith(version_prefix) and v != current_version\n",
    "]\n",
    "eligible_versions = [v.split('/')[0] for v in eligible_versions]\n",
    "\n",
    "# Collect all TFRecord files from those versions\n",
    "all_prev_files = []\n",
    "for version in eligible_versions:\n",
    "    tfrecord_glob = (\n",
    "        f\"gs://{dataset_bucket}/processed/{version}/*.tfrecord\"\n",
    "    )\n",
    "    all_prev_files.extend(gfile.glob(tfrecord_glob))\n",
    "\n",
    "num_to_sample = int(len(all_prev_files) * sample_ratio)\n",
    "sampled_files = random.sample(all_prev_files, num_to_sample)"
   ]
  },
  {
   "cell_type": "code",
   "execution_count": 5,
   "id": "9d74b328",
   "metadata": {},
   "outputs": [
    {
     "name": "stdout",
     "output_type": "stream",
     "text": [
      "v3_7\n"
     ]
    }
   ],
   "source": [
    "from tensorflow.io import gfile\n",
    "from google.cloud import storage\n",
    "import random\n",
    "\n",
    "dataset_bucket=\"creature-vision-training-set\"\n",
    "client = storage.Client(project=\"creature-vision\")\n",
    "bucket = client.bucket(dataset_bucket)\n",
    "current_version = \"v3_6\"\n",
    "sample_ratio: float = 0.2\n",
    "all_version_dirs = gfile.listdir(f\"gs://{dataset_bucket}/\")\n",
    "version_prefix = current_version.split(\"_\")[0]\n",
    "prev_version_num = int(current_version.split(\"_\")[1]) + 1\n",
    "prev_version = version_prefix + \"_\" + str(prev_version_num)\n",
    "print(prev_version)\n",
    "eligible_versions = [\n",
    "    v.rstrip(\"/\")\n",
    "    for v in all_version_dirs\n",
    "    if v.startswith(version_prefix) and v.rstrip(\"/\") != prev_version\n",
    "]\n",
    "\n",
    "all_prev_jpgs = []\n",
    "for version in eligible_versions:\n",
    "    for pred_type in [\"incorrect_predictions/\", \"correct_predictions/\"]:\n",
    "        prefix = f\"{version}/{pred_type}\"\n",
    "        blobs = bucket.list_blobs(prefix=prefix)\n",
    "        all_prev_jpgs.extend([\n",
    "            blob.name for blob in blobs if blob.name.endswith(\".jpg\")\n",
    "        ])\n",
    "\n",
    "num_to_sample = int(len(all_prev_jpgs) * sample_ratio)\n",
    "sampled_prev_paths = random.sample(all_prev_jpgs, num_to_sample) if num_to_sample > 0 else []"
   ]
  },
  {
   "cell_type": "code",
   "execution_count": 6,
   "id": "c9be0427",
   "metadata": {},
   "outputs": [
    {
     "data": {
      "text/plain": [
       "['v3_4/incorrect_predictions/hound english_1748205740.jpg',\n",
       " 'v3_4/correct_predictions/mastiff bull_1748205213.jpg']"
      ]
     },
     "execution_count": 6,
     "metadata": {},
     "output_type": "execute_result"
    }
   ],
   "source": [
    "sampled_prev_paths"
   ]
  }
 ],
 "metadata": {
  "kernelspec": {
   "display_name": "creature-vis-0.1",
   "language": "python",
   "name": "python3"
  },
  "language_info": {
   "codemirror_mode": {
    "name": "ipython",
    "version": 3
   },
   "file_extension": ".py",
   "mimetype": "text/x-python",
   "name": "python",
   "nbconvert_exporter": "python",
   "pygments_lexer": "ipython3",
   "version": "3.11.11"
  }
 },
 "nbformat": 4,
 "nbformat_minor": 5
}
