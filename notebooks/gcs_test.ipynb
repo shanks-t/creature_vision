{
 "cells": [
  {
   "cell_type": "code",
   "execution_count": 1,
   "metadata": {},
   "outputs": [],
   "source": [
    "from google.cloud import storage\n",
    "from datetime import datetime\n",
    "import argparse\n",
    "from tqdm import tqdm  # For progress tracking\n",
    "\n",
    "def list_json_files(bucket_name: str, max_files: int = None) -> list[str]:\n",
    "    \"\"\"Properly paginated json file lister with progress tracking\"\"\"\n",
    "    client = storage.Client(project='creature-vision')\n",
    "    bucket = client.bucket(bucket_name)\n",
    "    json_files = []\n",
    "    \n",
    "    # Configure pagination to maximize throughput\n",
    "    blobs = bucket.list_blobs(page_size=1000)\n",
    "    \n",
    "    with tqdm(desc=\"Processing blobs\", unit=\"file\") as pbar:\n",
    "        try:\n",
    "            for blob in blobs:\n",
    "                if blob.name.lower().endswith('.json'):\n",
    "                    json_files.append(blob.name)\n",
    "                    \n",
    "                    # Enforce max_files even between pages\n",
    "                    if max_files and len(json_files) >= max_files:\n",
    "                        break\n",
    "                \n",
    "                # Update progress for every blob processed\n",
    "                pbar.update(1)\n",
    "                \n",
    "                # Early exit if max_files reached\n",
    "                if max_files and len(json_files) >= max_files:\n",
    "                    blobs._page_iterator.next_page_token = None  # Force stop pagination\n",
    "                    break\n",
    "                    \n",
    "        except KeyboardInterrupt:\n",
    "            print(\"\\nListing interrupted by user\")\n",
    "    \n",
    "    return json_files\n"
   ]
  },
  {
   "cell_type": "code",
   "execution_count": 2,
   "metadata": {},
   "outputs": [
    {
     "name": "stdout",
     "output_type": "stream",
     "text": [
      "Starting file list generation at 2025-03-08 12:54:09.316178\n"
     ]
    },
    {
     "name": "stderr",
     "output_type": "stream",
     "text": [
      "Processing blobs: 28997file [00:04, 6109.29file/s]"
     ]
    },
    {
     "name": "stdout",
     "output_type": "stream",
     "text": [
      "\n",
      "Successfully listed 14474 Json files\n",
      "Output saved to gcs_json_files_20250308_125414.txt\n",
      "Total execution time: 0:00:05.088461\n"
     ]
    },
    {
     "name": "stderr",
     "output_type": "stream",
     "text": [
      "\n"
     ]
    }
   ],
   "source": [
    "start_time = datetime.now()\n",
    "print(f\"Starting file list generation at {start_time}\")\n",
    "\n",
    "try:\n",
    "    json_list = list_json_files(\"creature-vision-training-set\")\n",
    "    \n",
    "    # Write to file with timestamp\n",
    "    timestamp = datetime.now().strftime(\"%Y%m%d_%H%M%S\")\n",
    "    output_file = f\"gcs_json_files_{timestamp}.txt\"\n",
    "    \n",
    "    with open(output_file, 'w') as f:\n",
    "        f.write('\\n'.join(json_list))\n",
    "        \n",
    "    print(f\"\\nSuccessfully listed {len(json_list)} Json files\")\n",
    "    print(f\"Output saved to {output_file}\")\n",
    "    print(f\"Total execution time: {datetime.now() - start_time}\")\n",
    "    \n",
    "except Exception as e:\n",
    "    print(f\"Error listing files: {str(e)}\")"
   ]
  }
 ],
 "metadata": {
  "kernelspec": {
   "display_name": "creature-vis-0.1",
   "language": "python",
   "name": "python3"
  },
  "language_info": {
   "codemirror_mode": {
    "name": "ipython",
    "version": 3
   },
   "file_extension": ".py",
   "mimetype": "text/x-python",
   "name": "python",
   "nbconvert_exporter": "python",
   "pygments_lexer": "ipython3",
   "version": "3.11.11"
  }
 },
 "nbformat": 4,
 "nbformat_minor": 2
}
