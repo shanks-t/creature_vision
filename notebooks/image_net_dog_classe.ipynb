{
 "cells": [
  {
   "cell_type": "code",
   "execution_count": null,
   "metadata": {},
   "outputs": [],
   "source": [
    "from tensorflow.keras.applications.mobilenet_v2 import MobileNetV2, decode_predictions\n",
    "import numpy as np\n",
    "\n",
    "# Load the MobileNetV2 model\n",
    "model = MobileNetV2(weights='imagenet', include_top=True)\n",
    "\n",
    "# Get the class index dictionary\n",
    "class_index = model.class_index\n",
    "\n",
    "# Create a list of all dog breeds\n",
    "dog_breeds = []\n",
    "\n",
    "# The WordNet ID for 'dog' is n02084071\n",
    "dog_synset_id = 'n02084071'\n",
    "\n",
    "# Iterate through all classes\n",
    "for class_name, (synset_id, human_label) in class_index.items():\n",
    "    # Check if the synset ID starts with the dog synset ID\n",
    "    if synset_id.startswith(dog_synset_id):\n",
    "        dog_breeds.append(human_label)\n",
    "\n",
    "# Print the list of dog breeds\n",
    "print(\"Dog breeds in ImageNet:\")\n",
    "for breed in dog_breeds:\n",
    "    print(breed)\n",
    "\n",
    "print(f\"\\nTotal number of dog breeds: {len(dog_breeds)}\")"
   ]
  }
 ],
 "metadata": {
  "kernelspec": {
   "display_name": "creature_vis",
   "language": "python",
   "name": "python3"
  },
  "language_info": {
   "name": "python",
   "version": "3.10.14"
  }
 },
 "nbformat": 4,
 "nbformat_minor": 2
}
